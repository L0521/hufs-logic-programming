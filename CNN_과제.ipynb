{
  "nbformat": 4,
  "nbformat_minor": 0,
  "metadata": {
    "colab": {
      "provenance": [],
      "authorship_tag": "ABX9TyPTVcxNQJuTIp79u7UzIzYd",
      "include_colab_link": true
    },
    "kernelspec": {
      "name": "python3",
      "display_name": "Python 3"
    },
    "language_info": {
      "name": "python"
    }
  },
  "cells": [
    {
      "cell_type": "markdown",
      "metadata": {
        "id": "view-in-github",
        "colab_type": "text"
      },
      "source": [
        "<a href=\"https://colab.research.google.com/github/L0521/hufs-logic-programming/blob/main/CNN_%EA%B3%BC%EC%A0%9C.ipynb\" target=\"_parent\"><img src=\"https://colab.research.google.com/assets/colab-badge.svg\" alt=\"Open In Colab\"/></a>"
      ]
    },
    {
      "cell_type": "code",
      "execution_count": 29,
      "metadata": {
        "colab": {
          "base_uri": "https://localhost:8080/",
          "height": 0
        },
        "id": "Tf4yI9_a00h4",
        "outputId": "bc73bc70-09a0-4102-d762-b5e23019d968"
      },
      "outputs": [
        {
          "output_type": "stream",
          "name": "stdout",
          "text": [
            "이미지셋 이미지 수 : 60000 개\n",
            "테스트셋 이미지 수 : 10000 개\n"
          ]
        }
      ],
      "source": [
        "#202302834 이승준\n",
        "from tensorflow.keras.models import Sequential\n",
        "from tensorflow.keras.layers import Dense, Dropout, Flatten, Conv2D, MaxPooling2D\n",
        "from tensorflow.keras.callbacks import ModelCheckpoint,EarlyStopping\n",
        "from tensorflow.keras.datasets import mnist\n",
        "from tensorflow.keras.utils import to_categorical\n",
        "\n",
        "import matplotlib.pyplot as plt\n",
        "import tensorflow as tf\n",
        "import numpy as np\n",
        "import os\n",
        "\n",
        "# MNIST 데이터셋을 불러와 학습셋과 테스트셋으로 저장합니다.\n",
        "fashion_mnist = tf.keras.datasets.fashion_mnist\n",
        "(train_images, train_labels), (test_images, test_labels) = fashion_mnist.load_data()\n",
        "\n",
        "# 이미지셋과 테스트셋이 각각 몇 개의 이미지로 되어 있는지 확인합니다.\n",
        "print(\"이미지셋 이미지 수 : %d 개\" % (train_images.shape[0]))\n",
        "print(\"테스트셋 이미지 수 : %d 개\" % (test_images.shape[0]))"
      ]
    },
    {
      "cell_type": "code",
      "source": [
        "train_images, test_images = train_images / 255.0, test_images / 255.0\n",
        "model = tf.keras.models.Sequential([\n",
        "    tf.keras.layers.Flatten(input_shape=(28, 28)),\n",
        "    tf.keras.layers.Dense(512, activation='relu'),\n",
        "    tf.keras.layers.Dense(10, activation='softmax')\n",
        "])\n",
        "model.summary()"
      ],
      "metadata": {
        "colab": {
          "base_uri": "https://localhost:8080/",
          "height": 0
        },
        "id": "AIIswYp-1mf6",
        "outputId": "ddae9a21-bbe2-45d4-bf67-36b046f3bb99"
      },
      "execution_count": 21,
      "outputs": [
        {
          "output_type": "stream",
          "name": "stdout",
          "text": [
            "Model: \"sequential_2\"\n",
            "_________________________________________________________________\n",
            " Layer (type)                Output Shape              Param #   \n",
            "=================================================================\n",
            " flatten_2 (Flatten)         (None, 784)               0         \n",
            "                                                                 \n",
            " dense_4 (Dense)             (None, 512)               401920    \n",
            "                                                                 \n",
            " dense_5 (Dense)             (None, 10)                5130      \n",
            "                                                                 \n",
            "=================================================================\n",
            "Total params: 407050 (1.55 MB)\n",
            "Trainable params: 407050 (1.55 MB)\n",
            "Non-trainable params: 0 (0.00 Byte)\n",
            "_________________________________________________________________\n"
          ]
        }
      ]
    },
    {
      "cell_type": "code",
      "source": [
        "model.compile(optimizer='adam',\n",
        "              loss='sparse_categorical_crossentropy',\n",
        "              metrics=['accuracy'])\n",
        "\n",
        "modelpath=\"./data/model/MNIST_MLP.hdf5\"\n",
        "checkpointer = ModelCheckpoint(filepath=modelpath, monitor='val_loss', verbose=1, save_best_only=True)\n",
        "early_stopping_callback = EarlyStopping(monitor='val_loss', patience=10)\n",
        "\n",
        "history = model.fit(train_images, train_labels, validation_split=0.25, epochs=30, batch_size=200, verbose=0, callbacks=[early_stopping_callback,checkpointer])\n",
        "\n",
        "print(\"\\n Test Accuracy: %.4f\" % (model.evaluate(test_images, test_labels)[1]))"
      ],
      "metadata": {
        "colab": {
          "base_uri": "https://localhost:8080/",
          "height": 0
        },
        "id": "folDYH8Z1zI6",
        "outputId": "ac17643c-aa73-4d42-d9c7-6635e32d5c03"
      },
      "execution_count": 22,
      "outputs": [
        {
          "output_type": "stream",
          "name": "stdout",
          "text": [
            "\n",
            "Epoch 1: val_loss improved from inf to 0.45272, saving model to ./data/model/MNIST_MLP.hdf5\n"
          ]
        },
        {
          "output_type": "stream",
          "name": "stderr",
          "text": [
            "/usr/local/lib/python3.10/dist-packages/keras/src/engine/training.py:3079: UserWarning: You are saving your model as an HDF5 file via `model.save()`. This file format is considered legacy. We recommend using instead the native Keras format, e.g. `model.save('my_model.keras')`.\n",
            "  saving_api.save_model(\n"
          ]
        },
        {
          "output_type": "stream",
          "name": "stdout",
          "text": [
            "\n",
            "Epoch 2: val_loss improved from 0.45272 to 0.38797, saving model to ./data/model/MNIST_MLP.hdf5\n",
            "\n",
            "Epoch 3: val_loss improved from 0.38797 to 0.37600, saving model to ./data/model/MNIST_MLP.hdf5\n",
            "\n",
            "Epoch 4: val_loss improved from 0.37600 to 0.36464, saving model to ./data/model/MNIST_MLP.hdf5\n",
            "\n",
            "Epoch 5: val_loss improved from 0.36464 to 0.32812, saving model to ./data/model/MNIST_MLP.hdf5\n",
            "\n",
            "Epoch 6: val_loss did not improve from 0.32812\n",
            "\n",
            "Epoch 7: val_loss improved from 0.32812 to 0.32546, saving model to ./data/model/MNIST_MLP.hdf5\n",
            "\n",
            "Epoch 8: val_loss improved from 0.32546 to 0.32358, saving model to ./data/model/MNIST_MLP.hdf5\n",
            "\n",
            "Epoch 9: val_loss improved from 0.32358 to 0.30176, saving model to ./data/model/MNIST_MLP.hdf5\n",
            "\n",
            "Epoch 10: val_loss did not improve from 0.30176\n",
            "\n",
            "Epoch 11: val_loss did not improve from 0.30176\n",
            "\n",
            "Epoch 12: val_loss did not improve from 0.30176\n",
            "\n",
            "Epoch 13: val_loss did not improve from 0.30176\n",
            "\n",
            "Epoch 14: val_loss improved from 0.30176 to 0.29641, saving model to ./data/model/MNIST_MLP.hdf5\n",
            "\n",
            "Epoch 15: val_loss did not improve from 0.29641\n",
            "\n",
            "Epoch 16: val_loss did not improve from 0.29641\n",
            "\n",
            "Epoch 17: val_loss did not improve from 0.29641\n",
            "\n",
            "Epoch 18: val_loss did not improve from 0.29641\n",
            "\n",
            "Epoch 19: val_loss did not improve from 0.29641\n",
            "\n",
            "Epoch 20: val_loss did not improve from 0.29641\n",
            "\n",
            "Epoch 21: val_loss did not improve from 0.29641\n",
            "\n",
            "Epoch 22: val_loss did not improve from 0.29641\n",
            "\n",
            "Epoch 23: val_loss did not improve from 0.29641\n",
            "\n",
            "Epoch 24: val_loss did not improve from 0.29641\n",
            "313/313 [==============================] - 1s 3ms/step - loss: 0.3415 - accuracy: 0.8897\n",
            "\n",
            " Test Accuracy: 0.8897\n"
          ]
        }
      ]
    },
    {
      "cell_type": "code",
      "source": [
        "# 검증셋과 학습셋의 오차를 저장합니다.\n",
        "y_vloss = history.history['val_loss']\n",
        "y_loss = history.history['loss']\n",
        "\n",
        "# 그래프로 표현해 봅니다.\n",
        "x_len = np.arange(len(y_loss))\n",
        "plt.plot(x_len, y_vloss, marker='.', c=\"red\", label='Testset_loss')\n",
        "plt.plot(x_len, y_loss, marker='.', c=\"blue\", label='Trainset_loss')\n",
        "\n",
        "# 그래프에 그리드를 주고 레이블을 표시하겠습니다.\n",
        "plt.legend(loc='upper right')\n",
        "plt.grid()\n",
        "plt.xlabel('epoch')\n",
        "plt.ylabel('loss')\n",
        "plt.show()"
      ],
      "metadata": {
        "colab": {
          "base_uri": "https://localhost:8080/",
          "height": 449
        },
        "id": "p0DngK4d3OvU",
        "outputId": "1375e00a-620f-4315-ed80-9e17bd4a855d"
      },
      "execution_count": 28,
      "outputs": [
        {
          "output_type": "display_data",
          "data": {
            "text/plain": [
              "<Figure size 640x480 with 1 Axes>"
            ],
            "image/png": "[encoded data removed]"
          },
          "metadata": {}
        }
      ]
    }
  ]
}